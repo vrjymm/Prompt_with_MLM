{
  "nbformat": 4,
  "nbformat_minor": 0,
  "metadata": {
    "colab": {
      "name": "ZeroShot_roberta_large.ipynb",
      "provenance": [],
      "collapsed_sections": []
    },
    "kernelspec": {
      "name": "python3",
      "display_name": "Python 3"
    },
    "language_info": {
      "name": "python"
    },
    "accelerator": "GPU",
    "widgets": {
      "application/vnd.jupyter.widget-state+json": {
        "57d9b6f7a191451dac62c325a3a99d57": {
          "model_module": "@jupyter-widgets/controls",
          "model_name": "HBoxModel",
          "model_module_version": "1.5.0",
          "state": {
            "_dom_classes": [],
            "_model_module": "@jupyter-widgets/controls",
            "_model_module_version": "1.5.0",
            "_model_name": "HBoxModel",
            "_view_count": null,
            "_view_module": "@jupyter-widgets/controls",
            "_view_module_version": "1.5.0",
            "_view_name": "HBoxView",
            "box_style": "",
            "children": [
              "IPY_MODEL_cf1eea315cea4a95831ee3b79fbc9e1e",
              "IPY_MODEL_77e3aaabb9f64b308b24bee490b8d3d9",
              "IPY_MODEL_a99d34d0f1d84f48b14282fa2782dfb2"
            ],
            "layout": "IPY_MODEL_d3c1dc0a047f496e909a8106990a83a7"
          }
        },
        "cf1eea315cea4a95831ee3b79fbc9e1e": {
          "model_module": "@jupyter-widgets/controls",
          "model_name": "HTMLModel",
          "model_module_version": "1.5.0",
          "state": {
            "_dom_classes": [],
            "_model_module": "@jupyter-widgets/controls",
            "_model_module_version": "1.5.0",
            "_model_name": "HTMLModel",
            "_view_count": null,
            "_view_module": "@jupyter-widgets/controls",
            "_view_module_version": "1.5.0",
            "_view_name": "HTMLView",
            "description": "",
            "description_tooltip": null,
            "layout": "IPY_MODEL_2da0e90374464a46b5ee172114aa160f",
            "placeholder": "​",
            "style": "IPY_MODEL_c0923e0a01f84caeacc0a5afb92690ad",
            "value": "Downloading: 100%"
          }
        },
        "77e3aaabb9f64b308b24bee490b8d3d9": {
          "model_module": "@jupyter-widgets/controls",
          "model_name": "FloatProgressModel",
          "model_module_version": "1.5.0",
          "state": {
            "_dom_classes": [],
            "_model_module": "@jupyter-widgets/controls",
            "_model_module_version": "1.5.0",
            "_model_name": "FloatProgressModel",
            "_view_count": null,
            "_view_module": "@jupyter-widgets/controls",
            "_view_module_version": "1.5.0",
            "_view_name": "ProgressView",
            "bar_style": "success",
            "description": "",
            "description_tooltip": null,
            "layout": "IPY_MODEL_c82af9e46802489e8cc52a1f7d8251a5",
            "max": 898823,
            "min": 0,
            "orientation": "horizontal",
            "style": "IPY_MODEL_77ccfcde64e842b98f054eacca80051c",
            "value": 898823
          }
        },
        "a99d34d0f1d84f48b14282fa2782dfb2": {
          "model_module": "@jupyter-widgets/controls",
          "model_name": "HTMLModel",
          "model_module_version": "1.5.0",
          "state": {
            "_dom_classes": [],
            "_model_module": "@jupyter-widgets/controls",
            "_model_module_version": "1.5.0",
            "_model_name": "HTMLModel",
            "_view_count": null,
            "_view_module": "@jupyter-widgets/controls",
            "_view_module_version": "1.5.0",
            "_view_name": "HTMLView",
            "description": "",
            "description_tooltip": null,
            "layout": "IPY_MODEL_87a9af8149204f8e950bc99e94f25b05",
            "placeholder": "​",
            "style": "IPY_MODEL_b8ae620d0bf64b93b12841604d8dce84",
            "value": " 899k/899k [00:01&lt;00:00, 768kB/s]"
          }
        },
        "d3c1dc0a047f496e909a8106990a83a7": {
          "model_module": "@jupyter-widgets/base",
          "model_name": "LayoutModel",
          "model_module_version": "1.2.0",
          "state": {
            "_model_module": "@jupyter-widgets/base",
            "_model_module_version": "1.2.0",
            "_model_name": "LayoutModel",
            "_view_count": null,
            "_view_module": "@jupyter-widgets/base",
            "_view_module_version": "1.2.0",
            "_view_name": "LayoutView",
            "align_content": null,
            "align_items": null,
            "align_self": null,
            "border": null,
            "bottom": null,
            "display": null,
            "flex": null,
            "flex_flow": null,
            "grid_area": null,
            "grid_auto_columns": null,
            "grid_auto_flow": null,
            "grid_auto_rows": null,
            "grid_column": null,
            "grid_gap": null,
            "grid_row": null,
            "grid_template_areas": null,
            "grid_template_columns": null,
            "grid_template_rows": null,
            "height": null,
            "justify_content": null,
            "justify_items": null,
            "left": null,
            "margin": null,
            "max_height": null,
            "max_width": null,
            "min_height": null,
            "min_width": null,
            "object_fit": null,
            "object_position": null,
            "order": null,
            "overflow": null,
            "overflow_x": null,
            "overflow_y": null,
            "padding": null,
            "right": null,
            "top": null,
            "visibility": null,
            "width": null
          }
        },
        "2da0e90374464a46b5ee172114aa160f": {
          "model_module": "@jupyter-widgets/base",
          "model_name": "LayoutModel",
          "model_module_version": "1.2.0",
          "state": {
            "_model_module": "@jupyter-widgets/base",
            "_model_module_version": "1.2.0",
            "_model_name": "LayoutModel",
            "_view_count": null,
            "_view_module": "@jupyter-widgets/base",
            "_view_module_version": "1.2.0",
            "_view_name": "LayoutView",
            "align_content": null,
            "align_items": null,
            "align_self": null,
            "border": null,
            "bottom": null,
            "display": null,
            "flex": null,
            "flex_flow": null,
            "grid_area": null,
            "grid_auto_columns": null,
            "grid_auto_flow": null,
            "grid_auto_rows": null,
            "grid_column": null,
            "grid_gap": null,
            "grid_row": null,
            "grid_template_areas": null,
            "grid_template_columns": null,
            "grid_template_rows": null,
            "height": null,
            "justify_content": null,
            "justify_items": null,
            "left": null,
            "margin": null,
            "max_height": null,
            "max_width": null,
            "min_height": null,
            "min_width": null,
            "object_fit": null,
            "object_position": null,
            "order": null,
            "overflow": null,
            "overflow_x": null,
            "overflow_y": null,
            "padding": null,
            "right": null,
            "top": null,
            "visibility": null,
            "width": null
          }
        },
        "c0923e0a01f84caeacc0a5afb92690ad": {
          "model_module": "@jupyter-widgets/controls",
          "model_name": "DescriptionStyleModel",
          "model_module_version": "1.5.0",
          "state": {
            "_model_module": "@jupyter-widgets/controls",
            "_model_module_version": "1.5.0",
            "_model_name": "DescriptionStyleModel",
            "_view_count": null,
            "_view_module": "@jupyter-widgets/base",
            "_view_module_version": "1.2.0",
            "_view_name": "StyleView",
            "description_width": ""
          }
        },
        "c82af9e46802489e8cc52a1f7d8251a5": {
          "model_module": "@jupyter-widgets/base",
          "model_name": "LayoutModel",
          "model_module_version": "1.2.0",
          "state": {
            "_model_module": "@jupyter-widgets/base",
            "_model_module_version": "1.2.0",
            "_model_name": "LayoutModel",
            "_view_count": null,
            "_view_module": "@jupyter-widgets/base",
            "_view_module_version": "1.2.0",
            "_view_name": "LayoutView",
            "align_content": null,
            "align_items": null,
            "align_self": null,
            "border": null,
            "bottom": null,
            "display": null,
            "flex": null,
            "flex_flow": null,
            "grid_area": null,
            "grid_auto_columns": null,
            "grid_auto_flow": null,
            "grid_auto_rows": null,
            "grid_column": null,
            "grid_gap": null,
            "grid_row": null,
            "grid_template_areas": null,
            "grid_template_columns": null,
            "grid_template_rows": null,
            "height": null,
            "justify_content": null,
            "justify_items": null,
            "left": null,
            "margin": null,
            "max_height": null,
            "max_width": null,
            "min_height": null,
            "min_width": null,
            "object_fit": null,
            "object_position": null,
            "order": null,
            "overflow": null,
            "overflow_x": null,
            "overflow_y": null,
            "padding": null,
            "right": null,
            "top": null,
            "visibility": null,
            "width": null
          }
        },
        "77ccfcde64e842b98f054eacca80051c": {
          "model_module": "@jupyter-widgets/controls",
          "model_name": "ProgressStyleModel",
          "model_module_version": "1.5.0",
          "state": {
            "_model_module": "@jupyter-widgets/controls",
            "_model_module_version": "1.5.0",
            "_model_name": "ProgressStyleModel",
            "_view_count": null,
            "_view_module": "@jupyter-widgets/base",
            "_view_module_version": "1.2.0",
            "_view_name": "StyleView",
            "bar_color": null,
            "description_width": ""
          }
        },
        "87a9af8149204f8e950bc99e94f25b05": {
          "model_module": "@jupyter-widgets/base",
          "model_name": "LayoutModel",
          "model_module_version": "1.2.0",
          "state": {
            "_model_module": "@jupyter-widgets/base",
            "_model_module_version": "1.2.0",
            "_model_name": "LayoutModel",
            "_view_count": null,
            "_view_module": "@jupyter-widgets/base",
            "_view_module_version": "1.2.0",
            "_view_name": "LayoutView",
            "align_content": null,
            "align_items": null,
            "align_self": null,
            "border": null,
            "bottom": null,
            "display": null,
            "flex": null,
            "flex_flow": null,
            "grid_area": null,
            "grid_auto_columns": null,
            "grid_auto_flow": null,
            "grid_auto_rows": null,
            "grid_column": null,
            "grid_gap": null,
            "grid_row": null,
            "grid_template_areas": null,
            "grid_template_columns": null,
            "grid_template_rows": null,
            "height": null,
            "justify_content": null,
            "justify_items": null,
            "left": null,
            "margin": null,
            "max_height": null,
            "max_width": null,
            "min_height": null,
            "min_width": null,
            "object_fit": null,
            "object_position": null,
            "order": null,
            "overflow": null,
            "overflow_x": null,
            "overflow_y": null,
            "padding": null,
            "right": null,
            "top": null,
            "visibility": null,
            "width": null
          }
        },
        "b8ae620d0bf64b93b12841604d8dce84": {
          "model_module": "@jupyter-widgets/controls",
          "model_name": "DescriptionStyleModel",
          "model_module_version": "1.5.0",
          "state": {
            "_model_module": "@jupyter-widgets/controls",
            "_model_module_version": "1.5.0",
            "_model_name": "DescriptionStyleModel",
            "_view_count": null,
            "_view_module": "@jupyter-widgets/base",
            "_view_module_version": "1.2.0",
            "_view_name": "StyleView",
            "description_width": ""
          }
        },
        "6986c008a7d945cf8b646bbdd9721e16": {
          "model_module": "@jupyter-widgets/controls",
          "model_name": "HBoxModel",
          "model_module_version": "1.5.0",
          "state": {
            "_dom_classes": [],
            "_model_module": "@jupyter-widgets/controls",
            "_model_module_version": "1.5.0",
            "_model_name": "HBoxModel",
            "_view_count": null,
            "_view_module": "@jupyter-widgets/controls",
            "_view_module_version": "1.5.0",
            "_view_name": "HBoxView",
            "box_style": "",
            "children": [
              "IPY_MODEL_b0ea6a9ecd2e46ccac25ae6c8046cc7d",
              "IPY_MODEL_ff37c3260d804b83ae412970998ad210",
              "IPY_MODEL_ae23d8abe7564eaaa6c010ddea2d9ad4"
            ],
            "layout": "IPY_MODEL_e554c317e14d408581b20cbdba0e59f7"
          }
        },
        "b0ea6a9ecd2e46ccac25ae6c8046cc7d": {
          "model_module": "@jupyter-widgets/controls",
          "model_name": "HTMLModel",
          "model_module_version": "1.5.0",
          "state": {
            "_dom_classes": [],
            "_model_module": "@jupyter-widgets/controls",
            "_model_module_version": "1.5.0",
            "_model_name": "HTMLModel",
            "_view_count": null,
            "_view_module": "@jupyter-widgets/controls",
            "_view_module_version": "1.5.0",
            "_view_name": "HTMLView",
            "description": "",
            "description_tooltip": null,
            "layout": "IPY_MODEL_ae2526db0b7c4827a8bddbf39275f032",
            "placeholder": "​",
            "style": "IPY_MODEL_adf09c2bcff34f349bb692aecc3ac526",
            "value": "Downloading: 100%"
          }
        },
        "ff37c3260d804b83ae412970998ad210": {
          "model_module": "@jupyter-widgets/controls",
          "model_name": "FloatProgressModel",
          "model_module_version": "1.5.0",
          "state": {
            "_dom_classes": [],
            "_model_module": "@jupyter-widgets/controls",
            "_model_module_version": "1.5.0",
            "_model_name": "FloatProgressModel",
            "_view_count": null,
            "_view_module": "@jupyter-widgets/controls",
            "_view_module_version": "1.5.0",
            "_view_name": "ProgressView",
            "bar_style": "success",
            "description": "",
            "description_tooltip": null,
            "layout": "IPY_MODEL_6511f78406a84794b6301da8e250a247",
            "max": 456318,
            "min": 0,
            "orientation": "horizontal",
            "style": "IPY_MODEL_8a054d1eee5e44b2a3aa3db1777df2bb",
            "value": 456318
          }
        },
        "ae23d8abe7564eaaa6c010ddea2d9ad4": {
          "model_module": "@jupyter-widgets/controls",
          "model_name": "HTMLModel",
          "model_module_version": "1.5.0",
          "state": {
            "_dom_classes": [],
            "_model_module": "@jupyter-widgets/controls",
            "_model_module_version": "1.5.0",
            "_model_name": "HTMLModel",
            "_view_count": null,
            "_view_module": "@jupyter-widgets/controls",
            "_view_module_version": "1.5.0",
            "_view_name": "HTMLView",
            "description": "",
            "description_tooltip": null,
            "layout": "IPY_MODEL_6e00ade63dce48f9b5162a1a63d903f4",
            "placeholder": "​",
            "style": "IPY_MODEL_c4fa0674ca914d1993efff6b3ab0f364",
            "value": " 456k/456k [00:00&lt;00:00, 408kB/s]"
          }
        },
        "e554c317e14d408581b20cbdba0e59f7": {
          "model_module": "@jupyter-widgets/base",
          "model_name": "LayoutModel",
          "model_module_version": "1.2.0",
          "state": {
            "_model_module": "@jupyter-widgets/base",
            "_model_module_version": "1.2.0",
            "_model_name": "LayoutModel",
            "_view_count": null,
            "_view_module": "@jupyter-widgets/base",
            "_view_module_version": "1.2.0",
            "_view_name": "LayoutView",
            "align_content": null,
            "align_items": null,
            "align_self": null,
            "border": null,
            "bottom": null,
            "display": null,
            "flex": null,
            "flex_flow": null,
            "grid_area": null,
            "grid_auto_columns": null,
            "grid_auto_flow": null,
            "grid_auto_rows": null,
            "grid_column": null,
            "grid_gap": null,
            "grid_row": null,
            "grid_template_areas": null,
            "grid_template_columns": null,
            "grid_template_rows": null,
            "height": null,
            "justify_content": null,
            "justify_items": null,
            "left": null,
            "margin": null,
            "max_height": null,
            "max_width": null,
            "min_height": null,
            "min_width": null,
            "object_fit": null,
            "object_position": null,
            "order": null,
            "overflow": null,
            "overflow_x": null,
            "overflow_y": null,
            "padding": null,
            "right": null,
            "top": null,
            "visibility": null,
            "width": null
          }
        },
        "ae2526db0b7c4827a8bddbf39275f032": {
          "model_module": "@jupyter-widgets/base",
          "model_name": "LayoutModel",
          "model_module_version": "1.2.0",
          "state": {
            "_model_module": "@jupyter-widgets/base",
            "_model_module_version": "1.2.0",
            "_model_name": "LayoutModel",
            "_view_count": null,
            "_view_module": "@jupyter-widgets/base",
            "_view_module_version": "1.2.0",
            "_view_name": "LayoutView",
            "align_content": null,
            "align_items": null,
            "align_self": null,
            "border": null,
            "bottom": null,
            "display": null,
            "flex": null,
            "flex_flow": null,
            "grid_area": null,
            "grid_auto_columns": null,
            "grid_auto_flow": null,
            "grid_auto_rows": null,
            "grid_column": null,
            "grid_gap": null,
            "grid_row": null,
            "grid_template_areas": null,
            "grid_template_columns": null,
            "grid_template_rows": null,
            "height": null,
            "justify_content": null,
            "justify_items": null,
            "left": null,
            "margin": null,
            "max_height": null,
            "max_width": null,
            "min_height": null,
            "min_width": null,
            "object_fit": null,
            "object_position": null,
            "order": null,
            "overflow": null,
            "overflow_x": null,
            "overflow_y": null,
            "padding": null,
            "right": null,
            "top": null,
            "visibility": null,
            "width": null
          }
        },
        "adf09c2bcff34f349bb692aecc3ac526": {
          "model_module": "@jupyter-widgets/controls",
          "model_name": "DescriptionStyleModel",
          "model_module_version": "1.5.0",
          "state": {
            "_model_module": "@jupyter-widgets/controls",
            "_model_module_version": "1.5.0",
            "_model_name": "DescriptionStyleModel",
            "_view_count": null,
            "_view_module": "@jupyter-widgets/base",
            "_view_module_version": "1.2.0",
            "_view_name": "StyleView",
            "description_width": ""
          }
        },
        "6511f78406a84794b6301da8e250a247": {
          "model_module": "@jupyter-widgets/base",
          "model_name": "LayoutModel",
          "model_module_version": "1.2.0",
          "state": {
            "_model_module": "@jupyter-widgets/base",
            "_model_module_version": "1.2.0",
            "_model_name": "LayoutModel",
            "_view_count": null,
            "_view_module": "@jupyter-widgets/base",
            "_view_module_version": "1.2.0",
            "_view_name": "LayoutView",
            "align_content": null,
            "align_items": null,
            "align_self": null,
            "border": null,
            "bottom": null,
            "display": null,
            "flex": null,
            "flex_flow": null,
            "grid_area": null,
            "grid_auto_columns": null,
            "grid_auto_flow": null,
            "grid_auto_rows": null,
            "grid_column": null,
            "grid_gap": null,
            "grid_row": null,
            "grid_template_areas": null,
            "grid_template_columns": null,
            "grid_template_rows": null,
            "height": null,
            "justify_content": null,
            "justify_items": null,
            "left": null,
            "margin": null,
            "max_height": null,
            "max_width": null,
            "min_height": null,
            "min_width": null,
            "object_fit": null,
            "object_position": null,
            "order": null,
            "overflow": null,
            "overflow_x": null,
            "overflow_y": null,
            "padding": null,
            "right": null,
            "top": null,
            "visibility": null,
            "width": null
          }
        },
        "8a054d1eee5e44b2a3aa3db1777df2bb": {
          "model_module": "@jupyter-widgets/controls",
          "model_name": "ProgressStyleModel",
          "model_module_version": "1.5.0",
          "state": {
            "_model_module": "@jupyter-widgets/controls",
            "_model_module_version": "1.5.0",
            "_model_name": "ProgressStyleModel",
            "_view_count": null,
            "_view_module": "@jupyter-widgets/base",
            "_view_module_version": "1.2.0",
            "_view_name": "StyleView",
            "bar_color": null,
            "description_width": ""
          }
        },
        "6e00ade63dce48f9b5162a1a63d903f4": {
          "model_module": "@jupyter-widgets/base",
          "model_name": "LayoutModel",
          "model_module_version": "1.2.0",
          "state": {
            "_model_module": "@jupyter-widgets/base",
            "_model_module_version": "1.2.0",
            "_model_name": "LayoutModel",
            "_view_count": null,
            "_view_module": "@jupyter-widgets/base",
            "_view_module_version": "1.2.0",
            "_view_name": "LayoutView",
            "align_content": null,
            "align_items": null,
            "align_self": null,
            "border": null,
            "bottom": null,
            "display": null,
            "flex": null,
            "flex_flow": null,
            "grid_area": null,
            "grid_auto_columns": null,
            "grid_auto_flow": null,
            "grid_auto_rows": null,
            "grid_column": null,
            "grid_gap": null,
            "grid_row": null,
            "grid_template_areas": null,
            "grid_template_columns": null,
            "grid_template_rows": null,
            "height": null,
            "justify_content": null,
            "justify_items": null,
            "left": null,
            "margin": null,
            "max_height": null,
            "max_width": null,
            "min_height": null,
            "min_width": null,
            "object_fit": null,
            "object_position": null,
            "order": null,
            "overflow": null,
            "overflow_x": null,
            "overflow_y": null,
            "padding": null,
            "right": null,
            "top": null,
            "visibility": null,
            "width": null
          }
        },
        "c4fa0674ca914d1993efff6b3ab0f364": {
          "model_module": "@jupyter-widgets/controls",
          "model_name": "DescriptionStyleModel",
          "model_module_version": "1.5.0",
          "state": {
            "_model_module": "@jupyter-widgets/controls",
            "_model_module_version": "1.5.0",
            "_model_name": "DescriptionStyleModel",
            "_view_count": null,
            "_view_module": "@jupyter-widgets/base",
            "_view_module_version": "1.2.0",
            "_view_name": "StyleView",
            "description_width": ""
          }
        },
        "1eab077c220741a6be216d2e47a57c8a": {
          "model_module": "@jupyter-widgets/controls",
          "model_name": "HBoxModel",
          "model_module_version": "1.5.0",
          "state": {
            "_dom_classes": [],
            "_model_module": "@jupyter-widgets/controls",
            "_model_module_version": "1.5.0",
            "_model_name": "HBoxModel",
            "_view_count": null,
            "_view_module": "@jupyter-widgets/controls",
            "_view_module_version": "1.5.0",
            "_view_name": "HBoxView",
            "box_style": "",
            "children": [
              "IPY_MODEL_668f88cb6ab545f8bb8814ab2f1f4311",
              "IPY_MODEL_6bb71f5627584572aea08120475938fd",
              "IPY_MODEL_80bcb0378aaa4e1dba33447c99b85b8f"
            ],
            "layout": "IPY_MODEL_bfc8cd82c7604e9fa90c25e145f87af8"
          }
        },
        "668f88cb6ab545f8bb8814ab2f1f4311": {
          "model_module": "@jupyter-widgets/controls",
          "model_name": "HTMLModel",
          "model_module_version": "1.5.0",
          "state": {
            "_dom_classes": [],
            "_model_module": "@jupyter-widgets/controls",
            "_model_module_version": "1.5.0",
            "_model_name": "HTMLModel",
            "_view_count": null,
            "_view_module": "@jupyter-widgets/controls",
            "_view_module_version": "1.5.0",
            "_view_name": "HTMLView",
            "description": "",
            "description_tooltip": null,
            "layout": "IPY_MODEL_d0533ac17a3343a2b66cbabc7f036635",
            "placeholder": "​",
            "style": "IPY_MODEL_398817d1cee74a5b92dcacc77ad208c1",
            "value": "Downloading: 100%"
          }
        },
        "6bb71f5627584572aea08120475938fd": {
          "model_module": "@jupyter-widgets/controls",
          "model_name": "FloatProgressModel",
          "model_module_version": "1.5.0",
          "state": {
            "_dom_classes": [],
            "_model_module": "@jupyter-widgets/controls",
            "_model_module_version": "1.5.0",
            "_model_name": "FloatProgressModel",
            "_view_count": null,
            "_view_module": "@jupyter-widgets/controls",
            "_view_module_version": "1.5.0",
            "_view_name": "ProgressView",
            "bar_style": "success",
            "description": "",
            "description_tooltip": null,
            "layout": "IPY_MODEL_c50384bb504140f2bf87c6f2b79be2e4",
            "max": 481,
            "min": 0,
            "orientation": "horizontal",
            "style": "IPY_MODEL_fb0acad755104ee3816ef0bf0cb59a4e",
            "value": 481
          }
        },
        "80bcb0378aaa4e1dba33447c99b85b8f": {
          "model_module": "@jupyter-widgets/controls",
          "model_name": "HTMLModel",
          "model_module_version": "1.5.0",
          "state": {
            "_dom_classes": [],
            "_model_module": "@jupyter-widgets/controls",
            "_model_module_version": "1.5.0",
            "_model_name": "HTMLModel",
            "_view_count": null,
            "_view_module": "@jupyter-widgets/controls",
            "_view_module_version": "1.5.0",
            "_view_name": "HTMLView",
            "description": "",
            "description_tooltip": null,
            "layout": "IPY_MODEL_6c89fdfd19a24975be76d5599a98c8cd",
            "placeholder": "​",
            "style": "IPY_MODEL_a167d62515a246099fa0737957b698e3",
            "value": " 481/481 [00:00&lt;00:00, 5.53kB/s]"
          }
        },
        "bfc8cd82c7604e9fa90c25e145f87af8": {
          "model_module": "@jupyter-widgets/base",
          "model_name": "LayoutModel",
          "model_module_version": "1.2.0",
          "state": {
            "_model_module": "@jupyter-widgets/base",
            "_model_module_version": "1.2.0",
            "_model_name": "LayoutModel",
            "_view_count": null,
            "_view_module": "@jupyter-widgets/base",
            "_view_module_version": "1.2.0",
            "_view_name": "LayoutView",
            "align_content": null,
            "align_items": null,
            "align_self": null,
            "border": null,
            "bottom": null,
            "display": null,
            "flex": null,
            "flex_flow": null,
            "grid_area": null,
            "grid_auto_columns": null,
            "grid_auto_flow": null,
            "grid_auto_rows": null,
            "grid_column": null,
            "grid_gap": null,
            "grid_row": null,
            "grid_template_areas": null,
            "grid_template_columns": null,
            "grid_template_rows": null,
            "height": null,
            "justify_content": null,
            "justify_items": null,
            "left": null,
            "margin": null,
            "max_height": null,
            "max_width": null,
            "min_height": null,
            "min_width": null,
            "object_fit": null,
            "object_position": null,
            "order": null,
            "overflow": null,
            "overflow_x": null,
            "overflow_y": null,
            "padding": null,
            "right": null,
            "top": null,
            "visibility": null,
            "width": null
          }
        },
        "d0533ac17a3343a2b66cbabc7f036635": {
          "model_module": "@jupyter-widgets/base",
          "model_name": "LayoutModel",
          "model_module_version": "1.2.0",
          "state": {
            "_model_module": "@jupyter-widgets/base",
            "_model_module_version": "1.2.0",
            "_model_name": "LayoutModel",
            "_view_count": null,
            "_view_module": "@jupyter-widgets/base",
            "_view_module_version": "1.2.0",
            "_view_name": "LayoutView",
            "align_content": null,
            "align_items": null,
            "align_self": null,
            "border": null,
            "bottom": null,
            "display": null,
            "flex": null,
            "flex_flow": null,
            "grid_area": null,
            "grid_auto_columns": null,
            "grid_auto_flow": null,
            "grid_auto_rows": null,
            "grid_column": null,
            "grid_gap": null,
            "grid_row": null,
            "grid_template_areas": null,
            "grid_template_columns": null,
            "grid_template_rows": null,
            "height": null,
            "justify_content": null,
            "justify_items": null,
            "left": null,
            "margin": null,
            "max_height": null,
            "max_width": null,
            "min_height": null,
            "min_width": null,
            "object_fit": null,
            "object_position": null,
            "order": null,
            "overflow": null,
            "overflow_x": null,
            "overflow_y": null,
            "padding": null,
            "right": null,
            "top": null,
            "visibility": null,
            "width": null
          }
        },
        "398817d1cee74a5b92dcacc77ad208c1": {
          "model_module": "@jupyter-widgets/controls",
          "model_name": "DescriptionStyleModel",
          "model_module_version": "1.5.0",
          "state": {
            "_model_module": "@jupyter-widgets/controls",
            "_model_module_version": "1.5.0",
            "_model_name": "DescriptionStyleModel",
            "_view_count": null,
            "_view_module": "@jupyter-widgets/base",
            "_view_module_version": "1.2.0",
            "_view_name": "StyleView",
            "description_width": ""
          }
        },
        "c50384bb504140f2bf87c6f2b79be2e4": {
          "model_module": "@jupyter-widgets/base",
          "model_name": "LayoutModel",
          "model_module_version": "1.2.0",
          "state": {
            "_model_module": "@jupyter-widgets/base",
            "_model_module_version": "1.2.0",
            "_model_name": "LayoutModel",
            "_view_count": null,
            "_view_module": "@jupyter-widgets/base",
            "_view_module_version": "1.2.0",
            "_view_name": "LayoutView",
            "align_content": null,
            "align_items": null,
            "align_self": null,
            "border": null,
            "bottom": null,
            "display": null,
            "flex": null,
            "flex_flow": null,
            "grid_area": null,
            "grid_auto_columns": null,
            "grid_auto_flow": null,
            "grid_auto_rows": null,
            "grid_column": null,
            "grid_gap": null,
            "grid_row": null,
            "grid_template_areas": null,
            "grid_template_columns": null,
            "grid_template_rows": null,
            "height": null,
            "justify_content": null,
            "justify_items": null,
            "left": null,
            "margin": null,
            "max_height": null,
            "max_width": null,
            "min_height": null,
            "min_width": null,
            "object_fit": null,
            "object_position": null,
            "order": null,
            "overflow": null,
            "overflow_x": null,
            "overflow_y": null,
            "padding": null,
            "right": null,
            "top": null,
            "visibility": null,
            "width": null
          }
        },
        "fb0acad755104ee3816ef0bf0cb59a4e": {
          "model_module": "@jupyter-widgets/controls",
          "model_name": "ProgressStyleModel",
          "model_module_version": "1.5.0",
          "state": {
            "_model_module": "@jupyter-widgets/controls",
            "_model_module_version": "1.5.0",
            "_model_name": "ProgressStyleModel",
            "_view_count": null,
            "_view_module": "@jupyter-widgets/base",
            "_view_module_version": "1.2.0",
            "_view_name": "StyleView",
            "bar_color": null,
            "description_width": ""
          }
        },
        "6c89fdfd19a24975be76d5599a98c8cd": {
          "model_module": "@jupyter-widgets/base",
          "model_name": "LayoutModel",
          "model_module_version": "1.2.0",
          "state": {
            "_model_module": "@jupyter-widgets/base",
            "_model_module_version": "1.2.0",
            "_model_name": "LayoutModel",
            "_view_count": null,
            "_view_module": "@jupyter-widgets/base",
            "_view_module_version": "1.2.0",
            "_view_name": "LayoutView",
            "align_content": null,
            "align_items": null,
            "align_self": null,
            "border": null,
            "bottom": null,
            "display": null,
            "flex": null,
            "flex_flow": null,
            "grid_area": null,
            "grid_auto_columns": null,
            "grid_auto_flow": null,
            "grid_auto_rows": null,
            "grid_column": null,
            "grid_gap": null,
            "grid_row": null,
            "grid_template_areas": null,
            "grid_template_columns": null,
            "grid_template_rows": null,
            "height": null,
            "justify_content": null,
            "justify_items": null,
            "left": null,
            "margin": null,
            "max_height": null,
            "max_width": null,
            "min_height": null,
            "min_width": null,
            "object_fit": null,
            "object_position": null,
            "order": null,
            "overflow": null,
            "overflow_x": null,
            "overflow_y": null,
            "padding": null,
            "right": null,
            "top": null,
            "visibility": null,
            "width": null
          }
        },
        "a167d62515a246099fa0737957b698e3": {
          "model_module": "@jupyter-widgets/controls",
          "model_name": "DescriptionStyleModel",
          "model_module_version": "1.5.0",
          "state": {
            "_model_module": "@jupyter-widgets/controls",
            "_model_module_version": "1.5.0",
            "_model_name": "DescriptionStyleModel",
            "_view_count": null,
            "_view_module": "@jupyter-widgets/base",
            "_view_module_version": "1.2.0",
            "_view_name": "StyleView",
            "description_width": ""
          }
        },
        "3cf2201087d84f07ace078f28e920710": {
          "model_module": "@jupyter-widgets/controls",
          "model_name": "HBoxModel",
          "model_module_version": "1.5.0",
          "state": {
            "_dom_classes": [],
            "_model_module": "@jupyter-widgets/controls",
            "_model_module_version": "1.5.0",
            "_model_name": "HBoxModel",
            "_view_count": null,
            "_view_module": "@jupyter-widgets/controls",
            "_view_module_version": "1.5.0",
            "_view_name": "HBoxView",
            "box_style": "",
            "children": [
              "IPY_MODEL_2b7dff3adf124035b87e158e3fe25c07",
              "IPY_MODEL_c48f2c8d4949400192c4d305a39c0aa5",
              "IPY_MODEL_f351842d8bbf4e8f8181c73128bb7f17"
            ],
            "layout": "IPY_MODEL_9751c7ddf67a489d8055455fe151955e"
          }
        },
        "2b7dff3adf124035b87e158e3fe25c07": {
          "model_module": "@jupyter-widgets/controls",
          "model_name": "HTMLModel",
          "model_module_version": "1.5.0",
          "state": {
            "_dom_classes": [],
            "_model_module": "@jupyter-widgets/controls",
            "_model_module_version": "1.5.0",
            "_model_name": "HTMLModel",
            "_view_count": null,
            "_view_module": "@jupyter-widgets/controls",
            "_view_module_version": "1.5.0",
            "_view_name": "HTMLView",
            "description": "",
            "description_tooltip": null,
            "layout": "IPY_MODEL_e3c044cf1eb04a668cfb25d69272545f",
            "placeholder": "​",
            "style": "IPY_MODEL_0e459787aae540cfbe134d3588554ffa",
            "value": "Downloading: 100%"
          }
        },
        "c48f2c8d4949400192c4d305a39c0aa5": {
          "model_module": "@jupyter-widgets/controls",
          "model_name": "FloatProgressModel",
          "model_module_version": "1.5.0",
          "state": {
            "_dom_classes": [],
            "_model_module": "@jupyter-widgets/controls",
            "_model_module_version": "1.5.0",
            "_model_name": "FloatProgressModel",
            "_view_count": null,
            "_view_module": "@jupyter-widgets/controls",
            "_view_module_version": "1.5.0",
            "_view_name": "ProgressView",
            "bar_style": "success",
            "description": "",
            "description_tooltip": null,
            "layout": "IPY_MODEL_3ba124400b8d4b6895e38c521da3ef6c",
            "max": 230,
            "min": 0,
            "orientation": "horizontal",
            "style": "IPY_MODEL_6528fb6e801142789fce006b92c913e4",
            "value": 230
          }
        },
        "f351842d8bbf4e8f8181c73128bb7f17": {
          "model_module": "@jupyter-widgets/controls",
          "model_name": "HTMLModel",
          "model_module_version": "1.5.0",
          "state": {
            "_dom_classes": [],
            "_model_module": "@jupyter-widgets/controls",
            "_model_module_version": "1.5.0",
            "_model_name": "HTMLModel",
            "_view_count": null,
            "_view_module": "@jupyter-widgets/controls",
            "_view_module_version": "1.5.0",
            "_view_name": "HTMLView",
            "description": "",
            "description_tooltip": null,
            "layout": "IPY_MODEL_cd3af916ec3f4e8882e7c29b87bf1096",
            "placeholder": "​",
            "style": "IPY_MODEL_1c7a40d6e4e440e1921239adcc8e7662",
            "value": " 230/230 [00:00&lt;00:00, 5.85kB/s]"
          }
        },
        "9751c7ddf67a489d8055455fe151955e": {
          "model_module": "@jupyter-widgets/base",
          "model_name": "LayoutModel",
          "model_module_version": "1.2.0",
          "state": {
            "_model_module": "@jupyter-widgets/base",
            "_model_module_version": "1.2.0",
            "_model_name": "LayoutModel",
            "_view_count": null,
            "_view_module": "@jupyter-widgets/base",
            "_view_module_version": "1.2.0",
            "_view_name": "LayoutView",
            "align_content": null,
            "align_items": null,
            "align_self": null,
            "border": null,
            "bottom": null,
            "display": null,
            "flex": null,
            "flex_flow": null,
            "grid_area": null,
            "grid_auto_columns": null,
            "grid_auto_flow": null,
            "grid_auto_rows": null,
            "grid_column": null,
            "grid_gap": null,
            "grid_row": null,
            "grid_template_areas": null,
            "grid_template_columns": null,
            "grid_template_rows": null,
            "height": null,
            "justify_content": null,
            "justify_items": null,
            "left": null,
            "margin": null,
            "max_height": null,
            "max_width": null,
            "min_height": null,
            "min_width": null,
            "object_fit": null,
            "object_position": null,
            "order": null,
            "overflow": null,
            "overflow_x": null,
            "overflow_y": null,
            "padding": null,
            "right": null,
            "top": null,
            "visibility": null,
            "width": null
          }
        },
        "e3c044cf1eb04a668cfb25d69272545f": {
          "model_module": "@jupyter-widgets/base",
          "model_name": "LayoutModel",
          "model_module_version": "1.2.0",
          "state": {
            "_model_module": "@jupyter-widgets/base",
            "_model_module_version": "1.2.0",
            "_model_name": "LayoutModel",
            "_view_count": null,
            "_view_module": "@jupyter-widgets/base",
            "_view_module_version": "1.2.0",
            "_view_name": "LayoutView",
            "align_content": null,
            "align_items": null,
            "align_self": null,
            "border": null,
            "bottom": null,
            "display": null,
            "flex": null,
            "flex_flow": null,
            "grid_area": null,
            "grid_auto_columns": null,
            "grid_auto_flow": null,
            "grid_auto_rows": null,
            "grid_column": null,
            "grid_gap": null,
            "grid_row": null,
            "grid_template_areas": null,
            "grid_template_columns": null,
            "grid_template_rows": null,
            "height": null,
            "justify_content": null,
            "justify_items": null,
            "left": null,
            "margin": null,
            "max_height": null,
            "max_width": null,
            "min_height": null,
            "min_width": null,
            "object_fit": null,
            "object_position": null,
            "order": null,
            "overflow": null,
            "overflow_x": null,
            "overflow_y": null,
            "padding": null,
            "right": null,
            "top": null,
            "visibility": null,
            "width": null
          }
        },
        "0e459787aae540cfbe134d3588554ffa": {
          "model_module": "@jupyter-widgets/controls",
          "model_name": "DescriptionStyleModel",
          "model_module_version": "1.5.0",
          "state": {
            "_model_module": "@jupyter-widgets/controls",
            "_model_module_version": "1.5.0",
            "_model_name": "DescriptionStyleModel",
            "_view_count": null,
            "_view_module": "@jupyter-widgets/base",
            "_view_module_version": "1.2.0",
            "_view_name": "StyleView",
            "description_width": ""
          }
        },
        "3ba124400b8d4b6895e38c521da3ef6c": {
          "model_module": "@jupyter-widgets/base",
          "model_name": "LayoutModel",
          "model_module_version": "1.2.0",
          "state": {
            "_model_module": "@jupyter-widgets/base",
            "_model_module_version": "1.2.0",
            "_model_name": "LayoutModel",
            "_view_count": null,
            "_view_module": "@jupyter-widgets/base",
            "_view_module_version": "1.2.0",
            "_view_name": "LayoutView",
            "align_content": null,
            "align_items": null,
            "align_self": null,
            "border": null,
            "bottom": null,
            "display": null,
            "flex": null,
            "flex_flow": null,
            "grid_area": null,
            "grid_auto_columns": null,
            "grid_auto_flow": null,
            "grid_auto_rows": null,
            "grid_column": null,
            "grid_gap": null,
            "grid_row": null,
            "grid_template_areas": null,
            "grid_template_columns": null,
            "grid_template_rows": null,
            "height": null,
            "justify_content": null,
            "justify_items": null,
            "left": null,
            "margin": null,
            "max_height": null,
            "max_width": null,
            "min_height": null,
            "min_width": null,
            "object_fit": null,
            "object_position": null,
            "order": null,
            "overflow": null,
            "overflow_x": null,
            "overflow_y": null,
            "padding": null,
            "right": null,
            "top": null,
            "visibility": null,
            "width": null
          }
        },
        "6528fb6e801142789fce006b92c913e4": {
          "model_module": "@jupyter-widgets/controls",
          "model_name": "ProgressStyleModel",
          "model_module_version": "1.5.0",
          "state": {
            "_model_module": "@jupyter-widgets/controls",
            "_model_module_version": "1.5.0",
            "_model_name": "ProgressStyleModel",
            "_view_count": null,
            "_view_module": "@jupyter-widgets/base",
            "_view_module_version": "1.2.0",
            "_view_name": "StyleView",
            "bar_color": null,
            "description_width": ""
          }
        },
        "cd3af916ec3f4e8882e7c29b87bf1096": {
          "model_module": "@jupyter-widgets/base",
          "model_name": "LayoutModel",
          "model_module_version": "1.2.0",
          "state": {
            "_model_module": "@jupyter-widgets/base",
            "_model_module_version": "1.2.0",
            "_model_name": "LayoutModel",
            "_view_count": null,
            "_view_module": "@jupyter-widgets/base",
            "_view_module_version": "1.2.0",
            "_view_name": "LayoutView",
            "align_content": null,
            "align_items": null,
            "align_self": null,
            "border": null,
            "bottom": null,
            "display": null,
            "flex": null,
            "flex_flow": null,
            "grid_area": null,
            "grid_auto_columns": null,
            "grid_auto_flow": null,
            "grid_auto_rows": null,
            "grid_column": null,
            "grid_gap": null,
            "grid_row": null,
            "grid_template_areas": null,
            "grid_template_columns": null,
            "grid_template_rows": null,
            "height": null,
            "justify_content": null,
            "justify_items": null,
            "left": null,
            "margin": null,
            "max_height": null,
            "max_width": null,
            "min_height": null,
            "min_width": null,
            "object_fit": null,
            "object_position": null,
            "order": null,
            "overflow": null,
            "overflow_x": null,
            "overflow_y": null,
            "padding": null,
            "right": null,
            "top": null,
            "visibility": null,
            "width": null
          }
        },
        "1c7a40d6e4e440e1921239adcc8e7662": {
          "model_module": "@jupyter-widgets/controls",
          "model_name": "DescriptionStyleModel",
          "model_module_version": "1.5.0",
          "state": {
            "_model_module": "@jupyter-widgets/controls",
            "_model_module_version": "1.5.0",
            "_model_name": "DescriptionStyleModel",
            "_view_count": null,
            "_view_module": "@jupyter-widgets/base",
            "_view_module_version": "1.2.0",
            "_view_name": "StyleView",
            "description_width": ""
          }
        },
        "fa20c19db019447fa7703e1b1eec62f1": {
          "model_module": "@jupyter-widgets/controls",
          "model_name": "HBoxModel",
          "model_module_version": "1.5.0",
          "state": {
            "_dom_classes": [],
            "_model_module": "@jupyter-widgets/controls",
            "_model_module_version": "1.5.0",
            "_model_name": "HBoxModel",
            "_view_count": null,
            "_view_module": "@jupyter-widgets/controls",
            "_view_module_version": "1.5.0",
            "_view_name": "HBoxView",
            "box_style": "",
            "children": [
              "IPY_MODEL_4a35ab18b271478897d062c86a8ed905",
              "IPY_MODEL_b4f9e8756b9e4ba5a84f94f09787b3b1",
              "IPY_MODEL_d0f4de5d12664b48a106250683bb14b5"
            ],
            "layout": "IPY_MODEL_6a6b66a81c3146f2b68171276c4a7086"
          }
        },
        "4a35ab18b271478897d062c86a8ed905": {
          "model_module": "@jupyter-widgets/controls",
          "model_name": "HTMLModel",
          "model_module_version": "1.5.0",
          "state": {
            "_dom_classes": [],
            "_model_module": "@jupyter-widgets/controls",
            "_model_module_version": "1.5.0",
            "_model_name": "HTMLModel",
            "_view_count": null,
            "_view_module": "@jupyter-widgets/controls",
            "_view_module_version": "1.5.0",
            "_view_name": "HTMLView",
            "description": "",
            "description_tooltip": null,
            "layout": "IPY_MODEL_86bb6241c915460e9b3622a3ce9d8595",
            "placeholder": "​",
            "style": "IPY_MODEL_f569f4eb84834e7fb9b40ccdcf6f60fa",
            "value": "Downloading: 100%"
          }
        },
        "b4f9e8756b9e4ba5a84f94f09787b3b1": {
          "model_module": "@jupyter-widgets/controls",
          "model_name": "FloatProgressModel",
          "model_module_version": "1.5.0",
          "state": {
            "_dom_classes": [],
            "_model_module": "@jupyter-widgets/controls",
            "_model_module_version": "1.5.0",
            "_model_name": "FloatProgressModel",
            "_view_count": null,
            "_view_module": "@jupyter-widgets/controls",
            "_view_module_version": "1.5.0",
            "_view_name": "ProgressView",
            "bar_style": "success",
            "description": "",
            "description_tooltip": null,
            "layout": "IPY_MODEL_e2e9048a57ad4cc287544338f0d0b166",
            "max": 501200538,
            "min": 0,
            "orientation": "horizontal",
            "style": "IPY_MODEL_874039177f3c418ab1a1cd385ac058fd",
            "value": 501200538
          }
        },
        "d0f4de5d12664b48a106250683bb14b5": {
          "model_module": "@jupyter-widgets/controls",
          "model_name": "HTMLModel",
          "model_module_version": "1.5.0",
          "state": {
            "_dom_classes": [],
            "_model_module": "@jupyter-widgets/controls",
            "_model_module_version": "1.5.0",
            "_model_name": "HTMLModel",
            "_view_count": null,
            "_view_module": "@jupyter-widgets/controls",
            "_view_module_version": "1.5.0",
            "_view_name": "HTMLView",
            "description": "",
            "description_tooltip": null,
            "layout": "IPY_MODEL_e8353e887a5b403ab8d8a02842a5ca6d",
            "placeholder": "​",
            "style": "IPY_MODEL_6fbb162a4dde4acaba443fa7f071809d",
            "value": " 501M/501M [00:08&lt;00:00, 58.6MB/s]"
          }
        },
        "6a6b66a81c3146f2b68171276c4a7086": {
          "model_module": "@jupyter-widgets/base",
          "model_name": "LayoutModel",
          "model_module_version": "1.2.0",
          "state": {
            "_model_module": "@jupyter-widgets/base",
            "_model_module_version": "1.2.0",
            "_model_name": "LayoutModel",
            "_view_count": null,
            "_view_module": "@jupyter-widgets/base",
            "_view_module_version": "1.2.0",
            "_view_name": "LayoutView",
            "align_content": null,
            "align_items": null,
            "align_self": null,
            "border": null,
            "bottom": null,
            "display": null,
            "flex": null,
            "flex_flow": null,
            "grid_area": null,
            "grid_auto_columns": null,
            "grid_auto_flow": null,
            "grid_auto_rows": null,
            "grid_column": null,
            "grid_gap": null,
            "grid_row": null,
            "grid_template_areas": null,
            "grid_template_columns": null,
            "grid_template_rows": null,
            "height": null,
            "justify_content": null,
            "justify_items": null,
            "left": null,
            "margin": null,
            "max_height": null,
            "max_width": null,
            "min_height": null,
            "min_width": null,
            "object_fit": null,
            "object_position": null,
            "order": null,
            "overflow": null,
            "overflow_x": null,
            "overflow_y": null,
            "padding": null,
            "right": null,
            "top": null,
            "visibility": null,
            "width": null
          }
        },
        "86bb6241c915460e9b3622a3ce9d8595": {
          "model_module": "@jupyter-widgets/base",
          "model_name": "LayoutModel",
          "model_module_version": "1.2.0",
          "state": {
            "_model_module": "@jupyter-widgets/base",
            "_model_module_version": "1.2.0",
            "_model_name": "LayoutModel",
            "_view_count": null,
            "_view_module": "@jupyter-widgets/base",
            "_view_module_version": "1.2.0",
            "_view_name": "LayoutView",
            "align_content": null,
            "align_items": null,
            "align_self": null,
            "border": null,
            "bottom": null,
            "display": null,
            "flex": null,
            "flex_flow": null,
            "grid_area": null,
            "grid_auto_columns": null,
            "grid_auto_flow": null,
            "grid_auto_rows": null,
            "grid_column": null,
            "grid_gap": null,
            "grid_row": null,
            "grid_template_areas": null,
            "grid_template_columns": null,
            "grid_template_rows": null,
            "height": null,
            "justify_content": null,
            "justify_items": null,
            "left": null,
            "margin": null,
            "max_height": null,
            "max_width": null,
            "min_height": null,
            "min_width": null,
            "object_fit": null,
            "object_position": null,
            "order": null,
            "overflow": null,
            "overflow_x": null,
            "overflow_y": null,
            "padding": null,
            "right": null,
            "top": null,
            "visibility": null,
            "width": null
          }
        },
        "f569f4eb84834e7fb9b40ccdcf6f60fa": {
          "model_module": "@jupyter-widgets/controls",
          "model_name": "DescriptionStyleModel",
          "model_module_version": "1.5.0",
          "state": {
            "_model_module": "@jupyter-widgets/controls",
            "_model_module_version": "1.5.0",
            "_model_name": "DescriptionStyleModel",
            "_view_count": null,
            "_view_module": "@jupyter-widgets/base",
            "_view_module_version": "1.2.0",
            "_view_name": "StyleView",
            "description_width": ""
          }
        },
        "e2e9048a57ad4cc287544338f0d0b166": {
          "model_module": "@jupyter-widgets/base",
          "model_name": "LayoutModel",
          "model_module_version": "1.2.0",
          "state": {
            "_model_module": "@jupyter-widgets/base",
            "_model_module_version": "1.2.0",
            "_model_name": "LayoutModel",
            "_view_count": null,
            "_view_module": "@jupyter-widgets/base",
            "_view_module_version": "1.2.0",
            "_view_name": "LayoutView",
            "align_content": null,
            "align_items": null,
            "align_self": null,
            "border": null,
            "bottom": null,
            "display": null,
            "flex": null,
            "flex_flow": null,
            "grid_area": null,
            "grid_auto_columns": null,
            "grid_auto_flow": null,
            "grid_auto_rows": null,
            "grid_column": null,
            "grid_gap": null,
            "grid_row": null,
            "grid_template_areas": null,
            "grid_template_columns": null,
            "grid_template_rows": null,
            "height": null,
            "justify_content": null,
            "justify_items": null,
            "left": null,
            "margin": null,
            "max_height": null,
            "max_width": null,
            "min_height": null,
            "min_width": null,
            "object_fit": null,
            "object_position": null,
            "order": null,
            "overflow": null,
            "overflow_x": null,
            "overflow_y": null,
            "padding": null,
            "right": null,
            "top": null,
            "visibility": null,
            "width": null
          }
        },
        "874039177f3c418ab1a1cd385ac058fd": {
          "model_module": "@jupyter-widgets/controls",
          "model_name": "ProgressStyleModel",
          "model_module_version": "1.5.0",
          "state": {
            "_model_module": "@jupyter-widgets/controls",
            "_model_module_version": "1.5.0",
            "_model_name": "ProgressStyleModel",
            "_view_count": null,
            "_view_module": "@jupyter-widgets/base",
            "_view_module_version": "1.2.0",
            "_view_name": "StyleView",
            "bar_color": null,
            "description_width": ""
          }
        },
        "e8353e887a5b403ab8d8a02842a5ca6d": {
          "model_module": "@jupyter-widgets/base",
          "model_name": "LayoutModel",
          "model_module_version": "1.2.0",
          "state": {
            "_model_module": "@jupyter-widgets/base",
            "_model_module_version": "1.2.0",
            "_model_name": "LayoutModel",
            "_view_count": null,
            "_view_module": "@jupyter-widgets/base",
            "_view_module_version": "1.2.0",
            "_view_name": "LayoutView",
            "align_content": null,
            "align_items": null,
            "align_self": null,
            "border": null,
            "bottom": null,
            "display": null,
            "flex": null,
            "flex_flow": null,
            "grid_area": null,
            "grid_auto_columns": null,
            "grid_auto_flow": null,
            "grid_auto_rows": null,
            "grid_column": null,
            "grid_gap": null,
            "grid_row": null,
            "grid_template_areas": null,
            "grid_template_columns": null,
            "grid_template_rows": null,
            "height": null,
            "justify_content": null,
            "justify_items": null,
            "left": null,
            "margin": null,
            "max_height": null,
            "max_width": null,
            "min_height": null,
            "min_width": null,
            "object_fit": null,
            "object_position": null,
            "order": null,
            "overflow": null,
            "overflow_x": null,
            "overflow_y": null,
            "padding": null,
            "right": null,
            "top": null,
            "visibility": null,
            "width": null
          }
        },
        "6fbb162a4dde4acaba443fa7f071809d": {
          "model_module": "@jupyter-widgets/controls",
          "model_name": "DescriptionStyleModel",
          "model_module_version": "1.5.0",
          "state": {
            "_model_module": "@jupyter-widgets/controls",
            "_model_module_version": "1.5.0",
            "_model_name": "DescriptionStyleModel",
            "_view_count": null,
            "_view_module": "@jupyter-widgets/base",
            "_view_module_version": "1.2.0",
            "_view_name": "StyleView",
            "description_width": ""
          }
        }
      }
    }
  },
  "cells": [
    {
      "cell_type": "markdown",
      "source": [
        "[Reference](https://colab.research.google.com/github/DhavalTaunk08/NLP_scripts/blob/master/sentiment_analysis_using_roberta.ipynb#scrollTo=y43HcyWgEadG)\n"
      ],
      "metadata": {
        "id": "7sragN-gOzNq"
      }
    },
    {
      "cell_type": "code",
      "source": [
        "# Installations\n",
        "!pip install transformers==3.0.2"
      ],
      "metadata": {
        "colab": {
          "base_uri": "https://localhost:8080/"
        },
        "id": "DrEBL607Z83G",
        "outputId": "dd691230-7733-4a77-c005-2012b595210d"
      },
      "execution_count": 1,
      "outputs": [
        {
          "output_type": "stream",
          "name": "stdout",
          "text": [
            "Collecting transformers==3.0.2\n",
            "  Downloading transformers-3.0.2-py3-none-any.whl (769 kB)\n",
            "\u001b[?25l\r\u001b[K     |▍                               | 10 kB 33.0 MB/s eta 0:00:01\r\u001b[K     |▉                               | 20 kB 37.1 MB/s eta 0:00:01\r\u001b[K     |█▎                              | 30 kB 42.0 MB/s eta 0:00:01\r\u001b[K     |█▊                              | 40 kB 32.8 MB/s eta 0:00:01\r\u001b[K     |██▏                             | 51 kB 35.0 MB/s eta 0:00:01\r\u001b[K     |██▋                             | 61 kB 39.2 MB/s eta 0:00:01\r\u001b[K     |███                             | 71 kB 28.4 MB/s eta 0:00:01\r\u001b[K     |███▍                            | 81 kB 29.9 MB/s eta 0:00:01\r\u001b[K     |███▉                            | 92 kB 31.8 MB/s eta 0:00:01\r\u001b[K     |████▎                           | 102 kB 33.4 MB/s eta 0:00:01\r\u001b[K     |████▊                           | 112 kB 33.4 MB/s eta 0:00:01\r\u001b[K     |█████▏                          | 122 kB 33.4 MB/s eta 0:00:01\r\u001b[K     |█████▌                          | 133 kB 33.4 MB/s eta 0:00:01\r\u001b[K     |██████                          | 143 kB 33.4 MB/s eta 0:00:01\r\u001b[K     |██████▍                         | 153 kB 33.4 MB/s eta 0:00:01\r\u001b[K     |██████▉                         | 163 kB 33.4 MB/s eta 0:00:01\r\u001b[K     |███████▎                        | 174 kB 33.4 MB/s eta 0:00:01\r\u001b[K     |███████▊                        | 184 kB 33.4 MB/s eta 0:00:01\r\u001b[K     |████████                        | 194 kB 33.4 MB/s eta 0:00:01\r\u001b[K     |████████▌                       | 204 kB 33.4 MB/s eta 0:00:01\r\u001b[K     |█████████                       | 215 kB 33.4 MB/s eta 0:00:01\r\u001b[K     |█████████▍                      | 225 kB 33.4 MB/s eta 0:00:01\r\u001b[K     |█████████▉                      | 235 kB 33.4 MB/s eta 0:00:01\r\u001b[K     |██████████▎                     | 245 kB 33.4 MB/s eta 0:00:01\r\u001b[K     |██████████▋                     | 256 kB 33.4 MB/s eta 0:00:01\r\u001b[K     |███████████                     | 266 kB 33.4 MB/s eta 0:00:01\r\u001b[K     |███████████▌                    | 276 kB 33.4 MB/s eta 0:00:01\r\u001b[K     |████████████                    | 286 kB 33.4 MB/s eta 0:00:01\r\u001b[K     |████████████▍                   | 296 kB 33.4 MB/s eta 0:00:01\r\u001b[K     |████████████▉                   | 307 kB 33.4 MB/s eta 0:00:01\r\u001b[K     |█████████████▏                  | 317 kB 33.4 MB/s eta 0:00:01\r\u001b[K     |█████████████▋                  | 327 kB 33.4 MB/s eta 0:00:01\r\u001b[K     |██████████████                  | 337 kB 33.4 MB/s eta 0:00:01\r\u001b[K     |██████████████▌                 | 348 kB 33.4 MB/s eta 0:00:01\r\u001b[K     |███████████████                 | 358 kB 33.4 MB/s eta 0:00:01\r\u001b[K     |███████████████▍                | 368 kB 33.4 MB/s eta 0:00:01\r\u001b[K     |███████████████▊                | 378 kB 33.4 MB/s eta 0:00:01\r\u001b[K     |████████████████▏               | 389 kB 33.4 MB/s eta 0:00:01\r\u001b[K     |████████████████▋               | 399 kB 33.4 MB/s eta 0:00:01\r\u001b[K     |█████████████████               | 409 kB 33.4 MB/s eta 0:00:01\r\u001b[K     |█████████████████▌              | 419 kB 33.4 MB/s eta 0:00:01\r\u001b[K     |██████████████████              | 430 kB 33.4 MB/s eta 0:00:01\r\u001b[K     |██████████████████▎             | 440 kB 33.4 MB/s eta 0:00:01\r\u001b[K     |██████████████████▊             | 450 kB 33.4 MB/s eta 0:00:01\r\u001b[K     |███████████████████▏            | 460 kB 33.4 MB/s eta 0:00:01\r\u001b[K     |███████████████████▋            | 471 kB 33.4 MB/s eta 0:00:01\r\u001b[K     |████████████████████            | 481 kB 33.4 MB/s eta 0:00:01\r\u001b[K     |████████████████████▌           | 491 kB 33.4 MB/s eta 0:00:01\r\u001b[K     |████████████████████▉           | 501 kB 33.4 MB/s eta 0:00:01\r\u001b[K     |█████████████████████▎          | 512 kB 33.4 MB/s eta 0:00:01\r\u001b[K     |█████████████████████▊          | 522 kB 33.4 MB/s eta 0:00:01\r\u001b[K     |██████████████████████▏         | 532 kB 33.4 MB/s eta 0:00:01\r\u001b[K     |██████████████████████▋         | 542 kB 33.4 MB/s eta 0:00:01\r\u001b[K     |███████████████████████         | 552 kB 33.4 MB/s eta 0:00:01\r\u001b[K     |███████████████████████▍        | 563 kB 33.4 MB/s eta 0:00:01\r\u001b[K     |███████████████████████▉        | 573 kB 33.4 MB/s eta 0:00:01\r\u001b[K     |████████████████████████▎       | 583 kB 33.4 MB/s eta 0:00:01\r\u001b[K     |████████████████████████▊       | 593 kB 33.4 MB/s eta 0:00:01\r\u001b[K     |█████████████████████████▏      | 604 kB 33.4 MB/s eta 0:00:01\r\u001b[K     |█████████████████████████▋      | 614 kB 33.4 MB/s eta 0:00:01\r\u001b[K     |██████████████████████████      | 624 kB 33.4 MB/s eta 0:00:01\r\u001b[K     |██████████████████████████▍     | 634 kB 33.4 MB/s eta 0:00:01\r\u001b[K     |██████████████████████████▉     | 645 kB 33.4 MB/s eta 0:00:01\r\u001b[K     |███████████████████████████▎    | 655 kB 33.4 MB/s eta 0:00:01\r\u001b[K     |███████████████████████████▊    | 665 kB 33.4 MB/s eta 0:00:01\r\u001b[K     |████████████████████████████▏   | 675 kB 33.4 MB/s eta 0:00:01\r\u001b[K     |████████████████████████████▌   | 686 kB 33.4 MB/s eta 0:00:01\r\u001b[K     |█████████████████████████████   | 696 kB 33.4 MB/s eta 0:00:01\r\u001b[K     |█████████████████████████████▍  | 706 kB 33.4 MB/s eta 0:00:01\r\u001b[K     |█████████████████████████████▉  | 716 kB 33.4 MB/s eta 0:00:01\r\u001b[K     |██████████████████████████████▎ | 727 kB 33.4 MB/s eta 0:00:01\r\u001b[K     |██████████████████████████████▊ | 737 kB 33.4 MB/s eta 0:00:01\r\u001b[K     |███████████████████████████████ | 747 kB 33.4 MB/s eta 0:00:01\r\u001b[K     |███████████████████████████████▌| 757 kB 33.4 MB/s eta 0:00:01\r\u001b[K     |████████████████████████████████| 768 kB 33.4 MB/s eta 0:00:01\r\u001b[K     |████████████████████████████████| 769 kB 33.4 MB/s \n",
            "\u001b[?25hRequirement already satisfied: requests in /usr/local/lib/python3.7/dist-packages (from transformers==3.0.2) (2.23.0)\n",
            "Requirement already satisfied: tqdm>=4.27 in /usr/local/lib/python3.7/dist-packages (from transformers==3.0.2) (4.64.0)\n",
            "Requirement already satisfied: filelock in /usr/local/lib/python3.7/dist-packages (from transformers==3.0.2) (3.6.0)\n",
            "Collecting sentencepiece!=0.1.92\n",
            "  Downloading sentencepiece-0.1.96-cp37-cp37m-manylinux_2_17_x86_64.manylinux2014_x86_64.whl (1.2 MB)\n",
            "\u001b[K     |████████████████████████████████| 1.2 MB 58.7 MB/s \n",
            "\u001b[?25hRequirement already satisfied: numpy in /usr/local/lib/python3.7/dist-packages (from transformers==3.0.2) (1.21.6)\n",
            "Requirement already satisfied: regex!=2019.12.17 in /usr/local/lib/python3.7/dist-packages (from transformers==3.0.2) (2019.12.20)\n",
            "Collecting sacremoses\n",
            "  Downloading sacremoses-0.0.53.tar.gz (880 kB)\n",
            "\u001b[K     |████████████████████████████████| 880 kB 55.7 MB/s \n",
            "\u001b[?25hCollecting tokenizers==0.8.1.rc1\n",
            "  Downloading tokenizers-0.8.1rc1-cp37-cp37m-manylinux1_x86_64.whl (3.0 MB)\n",
            "\u001b[K     |████████████████████████████████| 3.0 MB 48.7 MB/s \n",
            "\u001b[?25hRequirement already satisfied: packaging in /usr/local/lib/python3.7/dist-packages (from transformers==3.0.2) (21.3)\n",
            "Requirement already satisfied: pyparsing!=3.0.5,>=2.0.2 in /usr/local/lib/python3.7/dist-packages (from packaging->transformers==3.0.2) (3.0.8)\n",
            "Requirement already satisfied: idna<3,>=2.5 in /usr/local/lib/python3.7/dist-packages (from requests->transformers==3.0.2) (2.10)\n",
            "Requirement already satisfied: urllib3!=1.25.0,!=1.25.1,<1.26,>=1.21.1 in /usr/local/lib/python3.7/dist-packages (from requests->transformers==3.0.2) (1.24.3)\n",
            "Requirement already satisfied: certifi>=2017.4.17 in /usr/local/lib/python3.7/dist-packages (from requests->transformers==3.0.2) (2021.10.8)\n",
            "Requirement already satisfied: chardet<4,>=3.0.2 in /usr/local/lib/python3.7/dist-packages (from requests->transformers==3.0.2) (3.0.4)\n",
            "Requirement already satisfied: six in /usr/local/lib/python3.7/dist-packages (from sacremoses->transformers==3.0.2) (1.15.0)\n",
            "Requirement already satisfied: click in /usr/local/lib/python3.7/dist-packages (from sacremoses->transformers==3.0.2) (7.1.2)\n",
            "Requirement already satisfied: joblib in /usr/local/lib/python3.7/dist-packages (from sacremoses->transformers==3.0.2) (1.1.0)\n",
            "Building wheels for collected packages: sacremoses\n",
            "  Building wheel for sacremoses (setup.py) ... \u001b[?25l\u001b[?25hdone\n",
            "  Created wheel for sacremoses: filename=sacremoses-0.0.53-py3-none-any.whl size=895260 sha256=57de0a559ae0daa5e57f3523c5336ab6d2070f0f10d250352bb13978208c36ca\n",
            "  Stored in directory: /root/.cache/pip/wheels/87/39/dd/a83eeef36d0bf98e7a4d1933a4ad2d660295a40613079bafc9\n",
            "Successfully built sacremoses\n",
            "Installing collected packages: tokenizers, sentencepiece, sacremoses, transformers\n",
            "Successfully installed sacremoses-0.0.53 sentencepiece-0.1.96 tokenizers-0.8.1rc1 transformers-3.0.2\n"
          ]
        }
      ]
    },
    {
      "cell_type": "code",
      "source": [
        "# imports\n",
        "import os\n",
        "import random\n",
        "\n",
        "import torch\n",
        "from torch.utils.data import Dataset, DataLoader\n",
        "from torch import cuda\n",
        "\n",
        "import transformers\n",
        "from transformers import RobertaTokenizer, RobertaModel\n",
        "from transformers import pipeline\n",
        "\n",
        "from torch import cuda\n",
        "from tqdm import tqdm\n",
        "device = 'cuda' if cuda.is_available() else 'cpu'"
      ],
      "metadata": {
        "id": "3TM9qpmIidL3"
      },
      "execution_count": 2,
      "outputs": []
    },
    {
      "cell_type": "code",
      "execution_count": 3,
      "metadata": {
        "id": "l3LxEFvK4zGh",
        "colab": {
          "base_uri": "https://localhost:8080/"
        },
        "outputId": "b91b456c-4680-4f4f-86c3-e99a5f8ffb17"
      },
      "outputs": [
        {
          "output_type": "stream",
          "name": "stdout",
          "text": [
            "Mounted at /content/drive\n"
          ]
        }
      ],
      "source": [
        "# Mounting Google Drive to this .ipynb\n",
        "from google.colab import drive\n",
        "drive.mount('/content/drive')\n",
        "\n",
        "'''\n",
        "About: SST-2 Dataset (Stanford Sentiment Treebank - 2)\n",
        "\n",
        "Source - Rotten Tomatoes.\n",
        "Task- Sentiment Analysis \n",
        "Classes - Positive and Negative. \n",
        "Data Split - train/dev/test (pre-split)\n",
        "\n",
        "The Test set for SST-2 is not labelled as this is a benchmark dataset. \n",
        "\n",
        "'''\n",
        "\n",
        "\n",
        "# assume 'data/SST-2/' directory in google drive account ie. SST-2 dataset downloaded in the data folder in the main Google Drive root directory\n",
        "\n",
        "train_data_loc = '/content/drive/My Drive/data/SST-2/train.tsv'\n",
        "dev_data_loc = '/content/drive/My Drive/data/SST-2/dev.tsv'\n",
        "test_data_loc = '/content/drive/My Drive/data/SST-2/test.tsv'"
      ]
    },
    {
      "cell_type": "code",
      "source": [
        "#! mkdir /content/drive/MyDrive/data/SST-2/Few_Shot\n"
      ],
      "metadata": {
        "id": "KTA2wU88gFGV"
      },
      "execution_count": null,
      "outputs": []
    },
    {
      "cell_type": "code",
      "source": [
        "# File Data Reader\n",
        "\n",
        "def data_reader(filename):\n",
        "  '''\n",
        "  Reads the NLP datset from a .tsv file (each line is a separate example)\n",
        "\n",
        "  Returns:\n",
        "    data - List of (text,label) tuples\n",
        "    y_sizes - Number of classes in the dataset\n",
        "    class_sizes - List of integers representing number of training examples in the class\n",
        "\n",
        "  '''  \n",
        "\n",
        "  with open(filename) as f:\n",
        "    f.readline()\n",
        "\n",
        "    data = [line.split('\\t') for line in f]\n",
        "  data = [(x, int(y)) for (x,y) in data]\n",
        "  y_size = len(set([int(y) for (x,y) in data]))\n",
        "\n",
        "  data_by_class = {}\n",
        "\n",
        "  for i in range(y_size):\n",
        "    data_by_class[i] = []\n",
        "    \n",
        "  for x,y in data:\n",
        "    data_by_class[int(y)].append(x)\n",
        "\n",
        "  class_size = [len(data_by_class[i]) for i in range(y_size)]\n",
        "\n",
        "  # Can also return data by class if needed\n",
        "  return data, y_size, class_size\n",
        "\n"
      ],
      "metadata": {
        "id": "gruuqudPhM_T"
      },
      "execution_count": 4,
      "outputs": []
    },
    {
      "cell_type": "code",
      "source": [
        "# Create a few shot learning set\n",
        "\n",
        "def create_fewshot(K, data, y_size):\n",
        "  '''\n",
        "  Input:\n",
        "    K - Number of examples per class\n",
        "    data - dataset as a List of (text,label) tuples\n",
        "    y_size - Number of classes in the datset\n",
        "  '''\n",
        "  \n",
        "  dataset = []\n",
        "  class_counter = [0 for i in range(y_size)]\n",
        "  class_fixed = [0 for i in range(y_size)]\n",
        "\n",
        "  while(sum(class_fixed) < y_size):\n",
        "    sample = random.choice(data)\n",
        "    \n",
        "    if class_counter[sample[1]] < K:\n",
        "      dataset.append(sample)\n",
        "      class_counter[sample[1]] += 1\n",
        "\n",
        "    elif class_counter[sample[1]] == K:\n",
        "      class_fixed[sample[1]] = 1\n",
        "\n",
        "\n",
        "  return dataset\n",
        "\n"
      ],
      "metadata": {
        "id": "R4phLS9Dlb66"
      },
      "execution_count": 5,
      "outputs": []
    },
    {
      "cell_type": "code",
      "source": [
        "def dataset_to_file(dataset, filepath):\n",
        "  '''\n",
        "    Saves the few shot learning Dataset (from dataset) in the filename(filepath)\n",
        "  '''\n",
        "  with open(filepath, 'w') as f:\n",
        "    f.write('\\n')\n",
        "    for x,y in dataset:\n",
        "      line = x + '\\t' + str(y)+'\\n'\n",
        "      f.write(line)\n"
      ],
      "metadata": {
        "id": "o30IBjPivdQj"
      },
      "execution_count": 6,
      "outputs": []
    },
    {
      "cell_type": "code",
      "source": [
        "\n",
        "# Creating Few Shot Datasets\n",
        "\n",
        "# Number of few-shot datasets you want to create\n",
        "n_datasets = 5 \n",
        "K = 16 # Number of examples per class\n",
        "\n",
        "# location where datsets are to be created\n",
        "few_shot_location = '/content/drive/MyDrive/data/SST-2/Few_Shot'\n",
        "\n",
        "\n",
        "data, nclasses, class_sizes = data_reader(train_data_loc)\n",
        "\n",
        "for i in range(n_datasets):\n",
        "  \n",
        "  filepath = few_shot_location+\"/train_\"+str(i)+'.tsv'\n",
        "\n",
        "  fewshot_dataset = create_fewshot(K, data, nclasses)\n",
        "\n",
        "  dataset_to_file(fewshot_dataset, filepath)\n",
        "\n",
        "\n"
      ],
      "metadata": {
        "id": "EC_PBnUvg31J"
      },
      "execution_count": null,
      "outputs": []
    },
    {
      "cell_type": "code",
      "source": [
        "# 5 Development sets\n",
        "\n",
        "dev_data, _ , dev_class_sizes = data_reader(dev_data_loc)\n",
        "\n",
        "for i in range(n_datasets):\n",
        "  \n",
        "  filepath = few_shot_location+\"/dev_\"+str(i)+'.tsv'\n",
        "\n",
        "  fewshot_dataset = create_fewshot(K, dev_data, nclasses)\n",
        "\n",
        "  #dataset_to_file(fewshot_dataset, filepath)\n"
      ],
      "metadata": {
        "id": "_b8JpRRF2ZCa"
      },
      "execution_count": null,
      "outputs": []
    },
    {
      "cell_type": "code",
      "source": [
        "data, nclasses, class_sizes = data_reader(train_data_loc)\n",
        "dev_data, _ , dev_class_sizes = data_reader(dev_data_loc)"
      ],
      "metadata": {
        "id": "8lObl09rvPwa"
      },
      "execution_count": 7,
      "outputs": []
    },
    {
      "cell_type": "markdown",
      "source": [
        "### **SST-2 Baseline 1**\n",
        "Outputting the majority class (based on the training set) on original development set."
      ],
      "metadata": {
        "id": "h0QFOaabC8JG"
      }
    },
    {
      "cell_type": "code",
      "source": [
        "\n",
        "print(\"Dataset Classes: 0, 1\")\n",
        "majority_class = class_sizes.index(max(class_sizes))\n",
        "\n",
        "print(f\"Majority Class:{majority_class}\")\n",
        "\n",
        "accuracy = dev_class_sizes[1]/sum(dev_class_sizes) * 100\n",
        "print(\"Majority Class by full training set: \", accuracy, \" (acc)\")\n"
      ],
      "metadata": {
        "colab": {
          "base_uri": "https://localhost:8080/"
        },
        "id": "Bzx0ij_r2M_Y",
        "outputId": "543f7292-32d8-4415-bbb7-39bf7b9b7de2"
      },
      "execution_count": null,
      "outputs": [
        {
          "output_type": "stream",
          "name": "stdout",
          "text": [
            "Dataset Classes: 0, 1\n",
            "Majority Class:1\n",
            "Majority Class by full training set:  50.917431192660544  (acc)\n"
          ]
        }
      ]
    },
    {
      "cell_type": "markdown",
      "source": [
        "### **SST-2 Baseline 2** \n",
        "Prompt Based Zero Shot on pretrained. A.k.a formulating the sentance classification task as a Masked Language Modelling (MLM) Task using a their best Prompt. We are testing the prompt on the following base models -  \n",
        "\n",
        "*   pretrained roberta-large\n",
        "*   pretrained roberta-base\n",
        "\n",
        "For SST-2, the paper suggests the following Prompt:\n",
        "\n",
        "<u>Template</u>: \\<S1> It was [MASK] .   \n",
        "<u>Labels</u>: positive: great, negative: terrible\n",
        "\n",
        "(where \\<S1> refers to the example sentance)"
      ],
      "metadata": {
        "id": "lxmZj3iuD7Uv"
      }
    },
    {
      "cell_type": "code",
      "source": [
        "# SST-2 Baseline 2 : Zero Shot Performance on Prompt Based Zero Shot on pretrained roberta-large and roberta-base\n",
        "\n",
        "tokenizer = RobertaTokenizer.from_pretrained(\"roberta-large\")\n",
        "unmasker = pipeline('fill-mask', model='roberta-large')\n",
        "\n"
      ],
      "metadata": {
        "colab": {
          "base_uri": "https://localhost:8080/"
        },
        "id": "d4JT30LKCQjH",
        "outputId": "ea7ef904-2975-447d-9e4c-6f983711ae1c"
      },
      "execution_count": null,
      "outputs": [
        {
          "output_type": "stream",
          "name": "stderr",
          "text": [
            "/usr/local/lib/python3.7/dist-packages/transformers/modeling_auto.py:798: FutureWarning: The class `AutoModelWithLMHead` is deprecated and will be removed in a future version. Please use `AutoModelForCausalLM` for causal language models, `AutoModelForMaskedLM` for masked language models and `AutoModelForSeq2SeqLM` for encoder-decoder models.\n",
            "  FutureWarning,\n",
            "Some weights of RobertaForMaskedLM were not initialized from the model checkpoint at roberta-large and are newly initialized: ['lm_head.decoder.bias']\n",
            "You should probably TRAIN this model on a down-stream task to be able to use it for predictions and inference.\n"
          ]
        }
      ]
    },
    {
      "cell_type": "code",
      "source": [
        "tokenizer = RobertaTokenizer.from_pretrained(\"roberta-large\")"
      ],
      "metadata": {
        "id": "MbkaY8ueWSfn"
      },
      "execution_count": null,
      "outputs": []
    },
    {
      "cell_type": "code",
      "source": [
        "neg = tokenizer.encode(' terrible')[1]\n",
        "pos = tokenizer.encode(' great')[1]\n",
        "\n",
        "positives = [pos]\n",
        "negatives = [neg]\n",
        "\n",
        "pred = []\n",
        "for x,y in dev_data:\n",
        "  \n",
        "  example = x+\" It was <mask> . \"\n",
        "  if x[0] != ' ':\n",
        "     example = \" \" + example\n",
        "  pred.append(unmasker(example)[0]['token'])\n",
        "\n"
      ],
      "metadata": {
        "colab": {
          "base_uri": "https://localhost:8080/"
        },
        "id": "07clM3Hn5n10",
        "outputId": "0a61461d-98c5-4573-ac31-4d427e9d2172"
      },
      "execution_count": null,
      "outputs": [
        {
          "output_type": "stream",
          "name": "stdout",
          "text": [
            "Zero Shot on Prompt Accuracy: 0.0 (acc)\n"
          ]
        }
      ]
    },
    {
      "cell_type": "code",
      "source": [
        "result = []\n",
        "for i in range(len(dev_data)):\n",
        "  if pred[i] in positives and dev_data[i][1] == 1:\n",
        "    result.append(True)\n",
        "  if pred[i] in negatives and dev_data[i][1] == 0:\n",
        "    result.append(True)\n",
        "  result.append(False)\n",
        "count = 0\n",
        "for elem in result:\n",
        "  if elem:\n",
        "    count+=1\n",
        "\n",
        "print(f\"Zero Shot on Prompt Accuracy: {count/len(dev_data) * 100} (acc)\")"
      ],
      "metadata": {
        "colab": {
          "base_uri": "https://localhost:8080/"
        },
        "id": "birJxNMvmVUH",
        "outputId": "c1654755-a5e3-42b1-b18d-c8c8e9f768b7"
      },
      "execution_count": null,
      "outputs": [
        {
          "output_type": "stream",
          "name": "stdout",
          "text": [
            "Zero Shot on Prompt Accuracy: 11.582568807339449 (acc)\n"
          ]
        }
      ]
    },
    {
      "cell_type": "code",
      "source": [
        "neg = tokenizer.encode(' terrible')[1]\n",
        "pos = tokenizer.encode(' great')[1]\n",
        "\n",
        "neg1 = tokenizer.encode(' bad')[1]\n",
        "pos1 = tokenizer.encode(' good')[1]\n",
        "\n",
        "neg2 = tokenizer.encode(' pathetic')[1]\n",
        "pos2 = tokenizer.encode(' irresistible')[1]\n",
        "\n",
        "neg3 = tokenizer.encode(' bad')[1]\n",
        "pos3 = tokenizer.encode(' wonderful')[1]\n",
        "\n",
        "neg4 = tokenizer.encode(' bad')[1]\n",
        "pos4 = tokenizer.encode(' delicious')[1]\n",
        "\n",
        "positives = set([pos, pos1,pos2, pos3, pos4])\n",
        "negatives = set([neg, neg1,neg2, neg3, neg4])"
      ],
      "metadata": {
        "id": "M3hMJ6lb-y0c"
      },
      "execution_count": null,
      "outputs": []
    },
    {
      "cell_type": "code",
      "source": [
        "pred1 = []\n",
        "for x,y in dev_data:\n",
        "  \n",
        "  example = x+\" A <mask> one . \"\n",
        "  if x[0] != ' ':\n",
        "     example = \" \" + example\n",
        "  pred1.append(unmasker(example)[0]['token'])\n"
      ],
      "metadata": {
        "id": "6OMVBRFVIked"
      },
      "execution_count": null,
      "outputs": []
    },
    {
      "cell_type": "code",
      "source": [
        "pred2 = []\n",
        "for x,y in dev_data:\n",
        "  \n",
        "  example = x+\" A <mask> piece . \"\n",
        "  if x[0] != ' ':\n",
        "     example = \" \" + example\n",
        "  pred2.append(unmasker(example)[0]['token'])"
      ],
      "metadata": {
        "id": "3fsVgJaOJpDm"
      },
      "execution_count": null,
      "outputs": []
    },
    {
      "cell_type": "code",
      "source": [
        "pred3 = []\n",
        "for x,y in dev_data:\n",
        "  \n",
        "  example = x+\" All in all <mask> . \"\n",
        "  if x[0] != ' ':\n",
        "     example = \" \" + example\n",
        "  pred3.append(unmasker(example)[0]['token'])"
      ],
      "metadata": {
        "id": "5_OBsET7J2Db"
      },
      "execution_count": null,
      "outputs": []
    },
    {
      "cell_type": "code",
      "source": [
        "for i in range(len(dev_data)):\n",
        "  if (pred1[i] in positives) and dev_data[i][1] == 1:\n",
        "    result[i] = result[i] or True\n",
        "  if (pred1[i] in negatives) and dev_data[i][1] == 0:\n",
        "    result[i] = result[i] or True\n",
        " "
      ],
      "metadata": {
        "id": "yxS--vi0T7SY"
      },
      "execution_count": null,
      "outputs": []
    },
    {
      "cell_type": "code",
      "source": [
        "for i in range(len(dev_data)):\n",
        "  if (pred3[i] in positives) and dev_data[i][1] == 1:\n",
        "    result[i] = result[i] or True\n",
        "  if (pred3[i] in negatives) and dev_data[i][1] == 0:\n",
        "    result[i] = result[i] or True\n",
        " "
      ],
      "metadata": {
        "id": "i1iq10vRT_WU"
      },
      "execution_count": null,
      "outputs": []
    },
    {
      "cell_type": "code",
      "source": [
        "for i in range(len(dev_data)):\n",
        "  if (pred2[i] in positives) and dev_data[i][1] == 1:\n",
        "    result[i] = result[i] or True\n",
        "  if (pred2[i] in negatives) and dev_data[i][1] == 0:\n",
        "    result[i] = result[i] or True\n",
        " "
      ],
      "metadata": {
        "id": "fiEvZEZNV8gV"
      },
      "execution_count": null,
      "outputs": []
    },
    {
      "cell_type": "code",
      "source": [
        "count = 0\n",
        "for elem in result:\n",
        "  if elem:\n",
        "    count+=1\n",
        "\n",
        "print(f\"Zero Shot on Prompt Accuracy: {count/len(dev_data) * 100} (acc)\")"
      ],
      "metadata": {
        "colab": {
          "base_uri": "https://localhost:8080/"
        },
        "id": "S4OIROqPon4E",
        "outputId": "1ef73e63-83c3-495e-c958-6ef1cdacd16c"
      },
      "execution_count": null,
      "outputs": [
        {
          "output_type": "stream",
          "name": "stdout",
          "text": [
            "Zero Shot on Prompt Accuracy: 49.65596330275229 (acc)\n"
          ]
        }
      ]
    },
    {
      "cell_type": "code",
      "source": [
        "unique_outputs = list(set(pred))"
      ],
      "metadata": {
        "id": "718wdFYoQav1"
      },
      "execution_count": null,
      "outputs": []
    },
    {
      "cell_type": "code",
      "source": [
        "decoded_unique_outputs = tokenizer.batch_decode(unique_outputs)"
      ],
      "metadata": {
        "id": "rcnoS54YT_ce"
      },
      "execution_count": null,
      "outputs": []
    },
    {
      "cell_type": "markdown",
      "source": [
        "### Now trying on `roberta-base`"
      ],
      "metadata": {
        "id": "qfsPC9rG_3XO"
      }
    },
    {
      "cell_type": "code",
      "source": [
        "\n",
        "tokenizer = RobertaTokenizer.from_pretrained(\"roberta-base\")\n",
        "unmasker = pipeline('fill-mask', model='roberta-base')\n"
      ],
      "metadata": {
        "colab": {
          "base_uri": "https://localhost:8080/",
          "height": 265,
          "referenced_widgets": [
            "57d9b6f7a191451dac62c325a3a99d57",
            "cf1eea315cea4a95831ee3b79fbc9e1e",
            "77e3aaabb9f64b308b24bee490b8d3d9",
            "a99d34d0f1d84f48b14282fa2782dfb2",
            "d3c1dc0a047f496e909a8106990a83a7",
            "2da0e90374464a46b5ee172114aa160f",
            "c0923e0a01f84caeacc0a5afb92690ad",
            "c82af9e46802489e8cc52a1f7d8251a5",
            "77ccfcde64e842b98f054eacca80051c",
            "87a9af8149204f8e950bc99e94f25b05",
            "b8ae620d0bf64b93b12841604d8dce84",
            "6986c008a7d945cf8b646bbdd9721e16",
            "b0ea6a9ecd2e46ccac25ae6c8046cc7d",
            "ff37c3260d804b83ae412970998ad210",
            "ae23d8abe7564eaaa6c010ddea2d9ad4",
            "e554c317e14d408581b20cbdba0e59f7",
            "ae2526db0b7c4827a8bddbf39275f032",
            "adf09c2bcff34f349bb692aecc3ac526",
            "6511f78406a84794b6301da8e250a247",
            "8a054d1eee5e44b2a3aa3db1777df2bb",
            "6e00ade63dce48f9b5162a1a63d903f4",
            "c4fa0674ca914d1993efff6b3ab0f364",
            "1eab077c220741a6be216d2e47a57c8a",
            "668f88cb6ab545f8bb8814ab2f1f4311",
            "6bb71f5627584572aea08120475938fd",
            "80bcb0378aaa4e1dba33447c99b85b8f",
            "bfc8cd82c7604e9fa90c25e145f87af8",
            "d0533ac17a3343a2b66cbabc7f036635",
            "398817d1cee74a5b92dcacc77ad208c1",
            "c50384bb504140f2bf87c6f2b79be2e4",
            "fb0acad755104ee3816ef0bf0cb59a4e",
            "6c89fdfd19a24975be76d5599a98c8cd",
            "a167d62515a246099fa0737957b698e3",
            "3cf2201087d84f07ace078f28e920710",
            "2b7dff3adf124035b87e158e3fe25c07",
            "c48f2c8d4949400192c4d305a39c0aa5",
            "f351842d8bbf4e8f8181c73128bb7f17",
            "9751c7ddf67a489d8055455fe151955e",
            "e3c044cf1eb04a668cfb25d69272545f",
            "0e459787aae540cfbe134d3588554ffa",
            "3ba124400b8d4b6895e38c521da3ef6c",
            "6528fb6e801142789fce006b92c913e4",
            "cd3af916ec3f4e8882e7c29b87bf1096",
            "1c7a40d6e4e440e1921239adcc8e7662",
            "fa20c19db019447fa7703e1b1eec62f1",
            "4a35ab18b271478897d062c86a8ed905",
            "b4f9e8756b9e4ba5a84f94f09787b3b1",
            "d0f4de5d12664b48a106250683bb14b5",
            "6a6b66a81c3146f2b68171276c4a7086",
            "86bb6241c915460e9b3622a3ce9d8595",
            "f569f4eb84834e7fb9b40ccdcf6f60fa",
            "e2e9048a57ad4cc287544338f0d0b166",
            "874039177f3c418ab1a1cd385ac058fd",
            "e8353e887a5b403ab8d8a02842a5ca6d",
            "6fbb162a4dde4acaba443fa7f071809d"
          ]
        },
        "id": "vsU4uvHO_tOz",
        "outputId": "3ccd487c-cd89-48a5-b0b4-2608ca8db232"
      },
      "execution_count": 8,
      "outputs": [
        {
          "output_type": "display_data",
          "data": {
            "text/plain": [
              "Downloading:   0%|          | 0.00/899k [00:00<?, ?B/s]"
            ],
            "application/vnd.jupyter.widget-view+json": {
              "version_major": 2,
              "version_minor": 0,
              "model_id": "57d9b6f7a191451dac62c325a3a99d57"
            }
          },
          "metadata": {}
        },
        {
          "output_type": "display_data",
          "data": {
            "text/plain": [
              "Downloading:   0%|          | 0.00/456k [00:00<?, ?B/s]"
            ],
            "application/vnd.jupyter.widget-view+json": {
              "version_major": 2,
              "version_minor": 0,
              "model_id": "6986c008a7d945cf8b646bbdd9721e16"
            }
          },
          "metadata": {}
        },
        {
          "output_type": "display_data",
          "data": {
            "text/plain": [
              "Downloading:   0%|          | 0.00/481 [00:00<?, ?B/s]"
            ],
            "application/vnd.jupyter.widget-view+json": {
              "version_major": 2,
              "version_minor": 0,
              "model_id": "1eab077c220741a6be216d2e47a57c8a"
            }
          },
          "metadata": {}
        },
        {
          "output_type": "display_data",
          "data": {
            "text/plain": [
              "Downloading:   0%|          | 0.00/230 [00:00<?, ?B/s]"
            ],
            "application/vnd.jupyter.widget-view+json": {
              "version_major": 2,
              "version_minor": 0,
              "model_id": "3cf2201087d84f07ace078f28e920710"
            }
          },
          "metadata": {}
        },
        {
          "output_type": "stream",
          "name": "stderr",
          "text": [
            "/usr/local/lib/python3.7/dist-packages/transformers/modeling_auto.py:798: FutureWarning: The class `AutoModelWithLMHead` is deprecated and will be removed in a future version. Please use `AutoModelForCausalLM` for causal language models, `AutoModelForMaskedLM` for masked language models and `AutoModelForSeq2SeqLM` for encoder-decoder models.\n",
            "  FutureWarning,\n"
          ]
        },
        {
          "output_type": "display_data",
          "data": {
            "text/plain": [
              "Downloading:   0%|          | 0.00/501M [00:00<?, ?B/s]"
            ],
            "application/vnd.jupyter.widget-view+json": {
              "version_major": 2,
              "version_minor": 0,
              "model_id": "fa20c19db019447fa7703e1b1eec62f1"
            }
          },
          "metadata": {}
        },
        {
          "output_type": "stream",
          "name": "stderr",
          "text": [
            "Some weights of RobertaForMaskedLM were not initialized from the model checkpoint at roberta-base and are newly initialized: ['lm_head.decoder.bias']\n",
            "You should probably TRAIN this model on a down-stream task to be able to use it for predictions and inference.\n"
          ]
        }
      ]
    },
    {
      "cell_type": "code",
      "source": [
        "neg = tokenizer.encode(' terrible')[1]\n",
        "pos = tokenizer.encode(' great')[1]\n",
        "\n",
        "positives = [pos]\n",
        "negatives = [neg]\n",
        "\n",
        "pred = []\n",
        "for x,y in dev_data:\n",
        "  \n",
        "  example = x+\" It was <mask> . \"\n",
        "  if x[0] != ' ':\n",
        "     example = \" \" + example\n",
        "  pred.append(unmasker(example)[0]['token'])\n",
        "\n"
      ],
      "metadata": {
        "id": "mv-q4uOz_1eP"
      },
      "execution_count": 9,
      "outputs": []
    },
    {
      "cell_type": "code",
      "source": [
        "result = []\n",
        "for i in range(len(dev_data)):\n",
        "  if pred[i] in positives and dev_data[i][1] == 1:\n",
        "    result.append(True)\n",
        "  if pred[i] in negatives and dev_data[i][1] == 0:\n",
        "    result.append(True)\n",
        "  result.append(False)\n",
        "count = 0\n",
        "for elem in result:\n",
        "  if elem:\n",
        "    count+=1\n",
        "\n",
        "print(f\"Zero Shot on Prompt Accuracy: {count/len(dev_data) * 100} (acc)\")"
      ],
      "metadata": {
        "colab": {
          "base_uri": "https://localhost:8080/"
        },
        "id": "l-NYNHYw_2Pz",
        "outputId": "2154664a-6f1c-4a1b-b6d0-6eff0f1182b7"
      },
      "execution_count": 10,
      "outputs": [
        {
          "output_type": "stream",
          "name": "stdout",
          "text": [
            "Zero Shot on Prompt Accuracy: 5.160550458715597 (acc)\n"
          ]
        }
      ]
    },
    {
      "cell_type": "code",
      "source": [
        "neg = tokenizer.encode(' terrible')[1]\n",
        "pos = tokenizer.encode(' great')[1]\n",
        "\n",
        "neg1 = tokenizer.encode(' bad')[1]\n",
        "pos1 = tokenizer.encode(' good')[1]\n",
        "\n",
        "neg2 = tokenizer.encode(' pathetic')[1]\n",
        "pos2 = tokenizer.encode(' irresistible')[1]\n",
        "\n",
        "neg3 = tokenizer.encode(' bad')[1]\n",
        "pos3 = tokenizer.encode(' wonderful')[1]\n",
        "\n",
        "neg4 = tokenizer.encode(' bad')[1]\n",
        "pos4 = tokenizer.encode(' delicious')[1]\n",
        "\n",
        "positives = set([pos, pos1,pos2, pos3, pos4])\n",
        "negatives = set([neg, neg1,neg2, neg3, neg4])"
      ],
      "metadata": {
        "id": "Kz3sS0JLABAC"
      },
      "execution_count": 11,
      "outputs": []
    },
    {
      "cell_type": "code",
      "source": [
        "pred1 = []\n",
        "for x,y in dev_data:\n",
        "  \n",
        "  example = x+\" A <mask> one . \"\n",
        "  if x[0] != ' ':\n",
        "     example = \" \" + example\n",
        "  pred1.append(unmasker(example)[0]['token'])\n"
      ],
      "metadata": {
        "id": "_zizRd8FAIyj"
      },
      "execution_count": 12,
      "outputs": []
    },
    {
      "cell_type": "code",
      "source": [
        "pred2 = []\n",
        "for x,y in dev_data:\n",
        "  \n",
        "  example = x+\" A <mask> piece . \"\n",
        "  if x[0] != ' ':\n",
        "     example = \" \" + example\n",
        "  pred2.append(unmasker(example)[0]['token'])"
      ],
      "metadata": {
        "id": "wrfUHZD6AJko"
      },
      "execution_count": 13,
      "outputs": []
    },
    {
      "cell_type": "code",
      "source": [
        "pred3 = []\n",
        "for x,y in dev_data:\n",
        "  \n",
        "  example = x+\" All in all <mask> . \"\n",
        "  if x[0] != ' ':\n",
        "     example = \" \" + example\n",
        "  pred3.append(unmasker(example)[0]['token'])"
      ],
      "metadata": {
        "id": "KeogTikDAPzu"
      },
      "execution_count": 14,
      "outputs": []
    },
    {
      "cell_type": "code",
      "source": [
        "for i in range(len(dev_data)):\n",
        "  if (pred1[i] in positives) and dev_data[i][1] == 1:\n",
        "    result[i] = result[i] or True\n",
        "  if (pred1[i] in negatives) and dev_data[i][1] == 0:\n",
        "    result[i] = result[i] or True\n",
        " "
      ],
      "metadata": {
        "id": "COV0Eic0AWv5"
      },
      "execution_count": 15,
      "outputs": []
    },
    {
      "cell_type": "code",
      "source": [
        "for i in range(len(dev_data)):\n",
        "  if (pred3[i] in positives) and dev_data[i][1] == 1:\n",
        "    result[i] = result[i] or True\n",
        "  if (pred3[i] in negatives) and dev_data[i][1] == 0:\n",
        "    result[i] = result[i] or True\n",
        " "
      ],
      "metadata": {
        "id": "0CBHXLjVAgu1"
      },
      "execution_count": 16,
      "outputs": []
    },
    {
      "cell_type": "code",
      "source": [
        "for i in range(len(dev_data)):\n",
        "  if (pred2[i] in positives) and dev_data[i][1] == 1:\n",
        "    result[i] = result[i] or True\n",
        "  if (pred2[i] in negatives) and dev_data[i][1] == 0:\n",
        "    result[i] = result[i] or True\n",
        " "
      ],
      "metadata": {
        "id": "EIb4O8e5AjuK"
      },
      "execution_count": 17,
      "outputs": []
    },
    {
      "cell_type": "code",
      "source": [
        "count = 0\n",
        "for elem in result:\n",
        "  if elem:\n",
        "    count+=1\n",
        "\n",
        "print(f\"Zero Shot on Prompt Accuracy: {count/len(dev_data) * 100} (acc)\")"
      ],
      "metadata": {
        "colab": {
          "base_uri": "https://localhost:8080/"
        },
        "id": "k3R3DsCzApTl",
        "outputId": "7faa7526-cb5c-4ba0-bcd8-9ac6063a54b9"
      },
      "execution_count": 18,
      "outputs": [
        {
          "output_type": "stream",
          "name": "stdout",
          "text": [
            "Zero Shot on Prompt Accuracy: 46.788990825688074 (acc)\n"
          ]
        }
      ]
    }
  ]
}